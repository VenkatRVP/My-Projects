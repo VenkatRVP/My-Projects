{
  "nbformat": 4,
  "nbformat_minor": 0,
  "metadata": {
    "colab": {
      "provenance": [],
      "collapsed_sections": [],
      "authorship_tag": "ABX9TyOjUEIuMBt5MSv+WOgnaD2k",
      "include_colab_link": true
    },
    "kernelspec": {
      "name": "python3",
      "display_name": "Python 3"
    },
    "language_info": {
      "name": "python"
    },
    "accelerator": "GPU",
    "gpuClass": "standard"
  },
  "cells": [
    {
      "cell_type": "markdown",
      "metadata": {
        "id": "view-in-github",
        "colab_type": "text"
      },
      "source": [
        "<a href=\"https://colab.research.google.com/github/VenkatRVP/My-Projects/blob/main/Vegetable_Testing.ipynb\" target=\"_parent\"><img src=\"https://colab.research.google.com/assets/colab-badge.svg\" alt=\"Open In Colab\"/></a>"
      ]
    },
    {
      "cell_type": "markdown",
      "source": [
        "**Project Title : Fertilizers Recommendation System For Disease Prediction**"
      ],
      "metadata": {
        "id": "1IUwLc35W1cx"
      }
    },
    {
      "cell_type": "markdown",
      "source": [
        "Team Id : PNT2022TMID12393"
      ],
      "metadata": {
        "id": "nPTeknVhXp6v"
      }
    },
    {
      "cell_type": "markdown",
      "source": [
        "Team Members : Pandi Raja P(Team Leader), Santhosh G, Venkatesh Prabhu R, Dhanasekara Pandian G, Ananthan C P"
      ],
      "metadata": {
        "id": "eePR4TUPXt65"
      }
    },
    {
      "cell_type": "markdown",
      "source": [
        "**Mount the Drive**"
      ],
      "metadata": {
        "id": "-Sm-gtaSF05Y"
      }
    },
    {
      "cell_type": "code",
      "source": [
        "import zipfile\n",
        "from google.colab import drive\n",
        "\n",
        "drive.mount('/content/drive/')"
      ],
      "metadata": {
        "colab": {
          "base_uri": "https://localhost:8080/"
        },
        "id": "UUWPBa4HTsvV",
        "outputId": "df97629f-ebc8-49f8-8d14-28f7844d46c9"
      },
      "execution_count": 1,
      "outputs": [
        {
          "output_type": "stream",
          "name": "stdout",
          "text": [
            "Mounted at /content/drive/\n"
          ]
        }
      ]
    },
    {
      "cell_type": "code",
      "source": [
        "zip_ref = zipfile.ZipFile(\"/content/drive/MyDrive/PRIEE/Dataset.zip\", 'r')\n",
        "zip_ref.extractall(\"/Temp\")\n",
        "zip_ref.close()"
      ],
      "metadata": {
        "id": "yMu3Frg0T3a-"
      },
      "execution_count": 2,
      "outputs": []
    },
    {
      "cell_type": "markdown",
      "source": [
        "Import the Libraries"
      ],
      "metadata": {
        "id": "8EgAOV6mSOlP"
      }
    },
    {
      "cell_type": "code",
      "execution_count": 3,
      "metadata": {
        "id": "uAkcKPHqQgVt"
      },
      "outputs": [],
      "source": [
        "from keras.preprocessing.image import ImageDataGenerator"
      ]
    },
    {
      "cell_type": "code",
      "source": [
        "train_datagen=ImageDataGenerator(rescale=1./255,shear_range=0.2,zoom_range=0.2,horizontal_flip=True)\n",
        "test_datagen=ImageDataGenerator(rescale=1)"
      ],
      "metadata": {
        "id": "I3_91aYkScgf"
      },
      "execution_count": 4,
      "outputs": []
    },
    {
      "cell_type": "code",
      "source": [
        "x_train=train_datagen.flow_from_directory('/Temp/Dataset Plant Disease/Veg-dataset/Veg-dataset/train_set',\n",
        "                                          target_size=(128,128),batch_size=16,class_mode='categorical')"
      ],
      "metadata": {
        "colab": {
          "base_uri": "https://localhost:8080/"
        },
        "id": "N1_lIFE8T-WA",
        "outputId": "df09f154-46cf-458f-a081-0480bfc8eb9f"
      },
      "execution_count": 5,
      "outputs": [
        {
          "output_type": "stream",
          "name": "stdout",
          "text": [
            "Found 11386 images belonging to 9 classes.\n"
          ]
        }
      ]
    },
    {
      "cell_type": "code",
      "source": [
        "x_test=test_datagen.flow_from_directory('/Temp/Dataset Plant Disease/Veg-dataset/Veg-dataset/test_set',\n",
        "                                        target_size=(128,128),\n",
        "                                        batch_size=16,\n",
        "                                        class_mode='categorical')"
      ],
      "metadata": {
        "colab": {
          "base_uri": "https://localhost:8080/"
        },
        "id": "NryRWwm8UhO5",
        "outputId": "fa2c6782-2aa9-4ae2-ec28-16041faf8fcf"
      },
      "execution_count": 6,
      "outputs": [
        {
          "output_type": "stream",
          "name": "stdout",
          "text": [
            "Found 3416 images belonging to 9 classes.\n"
          ]
        }
      ]
    },
    {
      "cell_type": "code",
      "source": [
        "from keras.models import Sequential\n",
        "from keras.layers import Dense\n",
        "from keras.layers import Convolution2D\n",
        "from keras.layers import MaxPooling2D\n",
        "from keras.layers import Flatten"
      ],
      "metadata": {
        "id": "K-4mjK3iVQjX"
      },
      "execution_count": 7,
      "outputs": []
    },
    {
      "cell_type": "code",
      "source": [
        "model=Sequential()"
      ],
      "metadata": {
        "id": "w1HCF54jVvjA"
      },
      "execution_count": 8,
      "outputs": []
    },
    {
      "cell_type": "markdown",
      "source": [
        "**Adding Convolution Layer**"
      ],
      "metadata": {
        "id": "SMS871WxV9H5"
      }
    },
    {
      "cell_type": "code",
      "source": [
        "model.add(Convolution2D(32,(3,3),input_shape=(128,128,3),activation='relu'))"
      ],
      "metadata": {
        "id": "hvK5Y9y2V707"
      },
      "execution_count": 9,
      "outputs": []
    },
    {
      "cell_type": "markdown",
      "source": [
        "**Adding the Pooling Layer**"
      ],
      "metadata": {
        "id": "VVc72gVxWWpE"
      }
    },
    {
      "cell_type": "code",
      "source": [
        "model.add(MaxPooling2D(pool_size=(2,2)))"
      ],
      "metadata": {
        "id": "44iSvEKfWVkH"
      },
      "execution_count": 10,
      "outputs": []
    },
    {
      "cell_type": "markdown",
      "source": [
        "Adding the Flatten Layer"
      ],
      "metadata": {
        "id": "nJwY3enMWgsI"
      }
    },
    {
      "cell_type": "code",
      "source": [
        "model.add(Flatten())"
      ],
      "metadata": {
        "id": "jENorY-cWfGN"
      },
      "execution_count": 11,
      "outputs": []
    },
    {
      "cell_type": "markdown",
      "source": [
        "**Adding the Dense Layer**"
      ],
      "metadata": {
        "id": "YK0_TsFgWp6O"
      }
    },
    {
      "cell_type": "code",
      "source": [
        "model.add(Dense(units=300,kernel_initializer='uniform',bias_initializer='uniform',activation='relu'))\n",
        "model.add(Dense(units=150,kernel_initializer='uniform',bias_initializer='uniform',activation='relu'))\n",
        "model.add(Dense(units=75,kernel_initializer='uniform',bias_initializer='uniform',activation='relu'))\n",
        "model.add(Dense(units=9,activation='softmax',kernel_initializer='uniform',bias_initializer='uniform'))"
      ],
      "metadata": {
        "id": "gBJhw0rSWoSA"
      },
      "execution_count": 12,
      "outputs": []
    },
    {
      "cell_type": "code",
      "source": [
        "model.compile(loss='categorical_crossentropy',optimizer=\"adam\",metrics=[\"accuracy\"])"
      ],
      "metadata": {
        "id": "GYYjQtHwjik0"
      },
      "execution_count": 13,
      "outputs": []
    },
    {
      "cell_type": "code",
      "source": [
        "model.fit_generator(x_train,steps_per_epoch=89,\n",
        "                    epochs=20,\n",
        "                    validation_data=x_test,\n",
        "                    validation_steps=27)"
      ],
      "metadata": {
        "colab": {
          "base_uri": "https://localhost:8080/"
        },
        "id": "gc0W1pu-jMT0",
        "outputId": "beb43d11-3d36-4ce5-f195-4307abf27b75"
      },
      "execution_count": 14,
      "outputs": [
        {
          "output_type": "stream",
          "name": "stderr",
          "text": [
            "/usr/local/lib/python3.7/dist-packages/ipykernel_launcher.py:4: UserWarning: `Model.fit_generator` is deprecated and will be removed in a future version. Please use `Model.fit`, which supports generators.\n",
            "  after removing the cwd from sys.path.\n"
          ]
        },
        {
          "output_type": "stream",
          "name": "stdout",
          "text": [
            "Epoch 1/20\n",
            "89/89 [==============================] - 18s 93ms/step - loss: 2.1179 - accuracy: 0.1664 - val_loss: 111.4163 - val_accuracy: 0.2083\n",
            "Epoch 2/20\n",
            "89/89 [==============================] - 9s 102ms/step - loss: 1.8070 - accuracy: 0.3195 - val_loss: 157.2682 - val_accuracy: 0.3750\n",
            "Epoch 3/20\n",
            "89/89 [==============================] - 8s 92ms/step - loss: 1.5231 - accuracy: 0.4410 - val_loss: 391.2726 - val_accuracy: 0.2731\n",
            "Epoch 4/20\n",
            "89/89 [==============================] - 9s 99ms/step - loss: 1.3437 - accuracy: 0.5239 - val_loss: 385.8004 - val_accuracy: 0.2338\n",
            "Epoch 5/20\n",
            "89/89 [==============================] - 8s 93ms/step - loss: 1.1523 - accuracy: 0.5829 - val_loss: 481.0800 - val_accuracy: 0.3403\n",
            "Epoch 6/20\n",
            "89/89 [==============================] - 8s 92ms/step - loss: 1.1038 - accuracy: 0.6138 - val_loss: 387.6346 - val_accuracy: 0.3958\n",
            "Epoch 7/20\n",
            "89/89 [==============================] - 10s 109ms/step - loss: 0.9586 - accuracy: 0.6559 - val_loss: 1052.6208 - val_accuracy: 0.1736\n",
            "Epoch 8/20\n",
            "89/89 [==============================] - 8s 93ms/step - loss: 0.8921 - accuracy: 0.6763 - val_loss: 1007.1885 - val_accuracy: 0.1806\n",
            "Epoch 9/20\n",
            "89/89 [==============================] - 8s 92ms/step - loss: 0.8320 - accuracy: 0.6882 - val_loss: 805.1165 - val_accuracy: 0.2824\n",
            "Epoch 10/20\n",
            "89/89 [==============================] - 8s 93ms/step - loss: 0.8265 - accuracy: 0.6952 - val_loss: 970.6913 - val_accuracy: 0.2315\n",
            "Epoch 11/20\n",
            "89/89 [==============================] - 8s 93ms/step - loss: 0.7430 - accuracy: 0.7240 - val_loss: 1365.1079 - val_accuracy: 0.2222\n",
            "Epoch 12/20\n",
            "89/89 [==============================] - 10s 108ms/step - loss: 0.7264 - accuracy: 0.7433 - val_loss: 1242.8115 - val_accuracy: 0.2130\n",
            "Epoch 13/20\n",
            "89/89 [==============================] - 8s 92ms/step - loss: 0.6992 - accuracy: 0.7479 - val_loss: 1248.8507 - val_accuracy: 0.2130\n",
            "Epoch 14/20\n",
            "89/89 [==============================] - 9s 97ms/step - loss: 0.5867 - accuracy: 0.7767 - val_loss: 1056.1119 - val_accuracy: 0.3796\n",
            "Epoch 15/20\n",
            "89/89 [==============================] - 8s 92ms/step - loss: 0.6114 - accuracy: 0.7781 - val_loss: 1249.2219 - val_accuracy: 0.2755\n",
            "Epoch 16/20\n",
            "89/89 [==============================] - 8s 92ms/step - loss: 0.5862 - accuracy: 0.7809 - val_loss: 1130.2517 - val_accuracy: 0.2130\n",
            "Epoch 17/20\n",
            "89/89 [==============================] - 9s 107ms/step - loss: 0.6058 - accuracy: 0.7809 - val_loss: 1455.6833 - val_accuracy: 0.2731\n",
            "Epoch 18/20\n",
            "89/89 [==============================] - 8s 93ms/step - loss: 0.5427 - accuracy: 0.8055 - val_loss: 1322.3915 - val_accuracy: 0.2917\n",
            "Epoch 19/20\n",
            "89/89 [==============================] - 8s 92ms/step - loss: 0.5177 - accuracy: 0.8132 - val_loss: 1917.7030 - val_accuracy: 0.2593\n",
            "Epoch 20/20\n",
            "89/89 [==============================] - 8s 92ms/step - loss: 0.4755 - accuracy: 0.8265 - val_loss: 1896.5209 - val_accuracy: 0.2315\n"
          ]
        },
        {
          "output_type": "execute_result",
          "data": {
            "text/plain": [
              "<keras.callbacks.History at 0x7f2b702c0310>"
            ]
          },
          "metadata": {},
          "execution_count": 14
        }
      ]
    },
    {
      "cell_type": "markdown",
      "source": [
        "**Save the Model**"
      ],
      "metadata": {
        "id": "pww3nfnLeVTh"
      }
    },
    {
      "cell_type": "code",
      "source": [
        "model.save('vegetable.h5')"
      ],
      "metadata": {
        "id": "i6te9EpweXzi"
      },
      "execution_count": 15,
      "outputs": []
    }
  ]
}