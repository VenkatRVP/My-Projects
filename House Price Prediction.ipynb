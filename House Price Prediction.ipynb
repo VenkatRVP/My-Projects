{
  "nbformat": 4,
  "nbformat_minor": 0,
  "metadata": {
    "colab": {
      "name": "Untitled6.ipynb",
      "provenance": [],
      "collapsed_sections": [],
      "authorship_tag": "ABX9TyNyXGJxpFRyGcdQfWVmRWft",
      "include_colab_link": true
    },
    "kernelspec": {
      "name": "python3",
      "display_name": "Python 3"
    },
    "language_info": {
      "name": "python"
    }
  },
  "cells": [
    {
      "cell_type": "markdown",
      "metadata": {
        "id": "view-in-github",
        "colab_type": "text"
      },
      "source": [
        "<a href=\"https://colab.research.google.com/github/VenkatRVP/My-Projects/blob/main/House%20Price%20Prediction.ipynb\" target=\"_parent\"><img src=\"https://colab.research.google.com/assets/colab-badge.svg\" alt=\"Open In Colab\"/></a>"
      ]
    },
    {
      "cell_type": "markdown",
      "source": [
        "**House Price Prediction**"
      ],
      "metadata": {
        "id": "HGiXbypjRRE9"
      }
    },
    {
      "cell_type": "markdown",
      "source": [
        "Importing necessary packages"
      ],
      "metadata": {
        "id": "rbYdTxY9RYca"
      }
    },
    {
      "cell_type": "code",
      "execution_count": 1,
      "metadata": {
        "id": "pb2Y2H8NSSMJ"
      },
      "outputs": [],
      "source": [
        "from sklearn.tree  import DecisionTreeRegressor\n",
        "from sklearn.ensemble import RandomForestRegressor\n",
        "from sklearn.metrics import mean_absolute_error\n",
        "from sklearn.model_selection import train_test_split\n",
        "import pandas as pd\n"
      ]
    },
    {
      "cell_type": "markdown",
      "source": [
        "Prepare the dataset"
      ],
      "metadata": {
        "id": "UZDp7RTqTfI-"
      }
    },
    {
      "cell_type": "code",
      "source": [
        "city_path='/content/train.csv'\n",
        "city_data=pd.read_csv(city_path)\n",
        "#city_data=city_data.dropna(axis=1)\n",
        "#print(city_data.columns)\n",
        "city_data.describe()\n",
        "features = ['LotArea', 'YearBuilt', '1stFlrSF', '2ndFlrSF', 'FullBath', 'BedroomAbvGr', 'TotRmsAbvGrd']\n",
        "X=city_data[features]\n",
        "Y=city_data.SalePrice\n",
        "#print(len(X))"
      ],
      "metadata": {
        "id": "-REw44dlTfft"
      },
      "execution_count": 8,
      "outputs": []
    },
    {
      "cell_type": "markdown",
      "source": [
        "Split the data for training and testing"
      ],
      "metadata": {
        "id": "x-3hgJMyVVLM"
      }
    },
    {
      "cell_type": "code",
      "source": [
        "train_X,Val_X,train_Y,Val_Y=train_test_split(X,Y,random_state=1)\n",
        "#print(train_X)\n",
        "#print(train_Y)\n",
        "\n",
        "city_decision_tree_reg_model=DecisionTreeRegressor()\n",
        "city_decision_tree_reg_model.fit(train_X,train_Y)\n",
        "prediction=city_decision_tree_reg_model.predict(Val_X)\n",
        "\n",
        "print('Error : Decision Tree Regressor -',mean_absolute_error(prediction,Val_Y))\n",
        "\n",
        "rand_forest=RandomForestRegressor(random_state=1)\n",
        "rand_forest.fit(train_X,train_Y)\n",
        "\n",
        "print('Error : Random Forest -',mean_absolute_error(rand_forest.predict(Val_X),Val_Y))\n"
      ],
      "metadata": {
        "colab": {
          "base_uri": "https://localhost:8080/"
        },
        "id": "2IXDI8U4VVcZ",
        "outputId": "b03fd9e2-7723-4bb5-f5ef-de4b8a3d06c9"
      },
      "execution_count": 18,
      "outputs": [
        {
          "output_type": "stream",
          "name": "stdout",
          "text": [
            "Error : Decision Tree Regressor - 29681.956164383562\n",
            "Error : Random Forest - 21857.15912981083\n"
          ]
        }
      ]
    }
  ]
}